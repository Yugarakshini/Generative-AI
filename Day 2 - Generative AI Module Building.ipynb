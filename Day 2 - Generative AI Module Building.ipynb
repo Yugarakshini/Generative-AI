{
 "cells": [
  {
   "cell_type": "code",
   "execution_count": 1,
   "id": "6ce84ad9",
   "metadata": {},
   "outputs": [],
   "source": [
    "#secure this key\n",
    "cohere_api_key = \"xjxmQmL32LULRG1jJWp4loHT5i7yMBtQBUx0da8E\"   #jjQan7pmPZAnZFDZCddyDxYCPieyaWI0rG1N0gky \n",
    "                                                              #v5OEWWEgBMIyH5Fdqy7Y58x722csvT0cDYeYkYDM\n",
    "                                                              "
   ]
  },
  {
   "cell_type": "markdown",
   "id": "79979c16-e0f9-4ef0-a417-abf89d913afc",
   "metadata": {},
   "source": [
    "# 1. Resume Screener using GenAI"
   ]
  },
  {
   "cell_type": "markdown",
   "id": "8ff0445c",
   "metadata": {},
   "source": [
    "### Setup Cohere API"
   ]
  },
  {
   "cell_type": "code",
   "execution_count": 2,
   "id": "ad982531",
   "metadata": {},
   "outputs": [],
   "source": [
    "import cohere\n",
    "\n",
    "# Initialize the Cohere client with your API key\n",
    "co = cohere.Client(cohere_api_key)"
   ]
  },
  {
   "cell_type": "markdown",
   "id": "590c7420-253a-490e-87a2-0757b9d6882e",
   "metadata": {},
   "source": [
    "### Creating Synthetic Data"
   ]
  },
  {
   "cell_type": "code",
   "execution_count": 3,
   "id": "6427cefe-87bf-4bd0-af4f-0b9b74e46d99",
   "metadata": {},
   "outputs": [
    {
     "data": {
      "text/html": [
       "<div>\n",
       "<style scoped>\n",
       "    .dataframe tbody tr th:only-of-type {\n",
       "        vertical-align: middle;\n",
       "    }\n",
       "\n",
       "    .dataframe tbody tr th {\n",
       "        vertical-align: top;\n",
       "    }\n",
       "\n",
       "    .dataframe thead th {\n",
       "        text-align: right;\n",
       "    }\n",
       "</style>\n",
       "<table border=\"1\" class=\"dataframe\">\n",
       "  <thead>\n",
       "    <tr style=\"text-align: right;\">\n",
       "      <th></th>\n",
       "      <th>resume</th>\n",
       "      <th>job_description</th>\n",
       "    </tr>\n",
       "  </thead>\n",
       "  <tbody>\n",
       "    <tr>\n",
       "      <th>0</th>\n",
       "      <td>I am Alice, with 4 years of experience in Pyth...</td>\n",
       "      <td>Looking for a professional with 7 years of exp...</td>\n",
       "    </tr>\n",
       "    <tr>\n",
       "      <th>1</th>\n",
       "      <td>I am Charlie, with 10 years of experience in P...</td>\n",
       "      <td>Looking for a professional with 10 years of ex...</td>\n",
       "    </tr>\n",
       "    <tr>\n",
       "      <th>2</th>\n",
       "      <td>I am Charlie, with 8 years of experience in Py...</td>\n",
       "      <td>Looking for a professional with 7 years of exp...</td>\n",
       "    </tr>\n",
       "    <tr>\n",
       "      <th>3</th>\n",
       "      <td>My name is Bob. I have 8 years of experience i...</td>\n",
       "      <td>Looking for a professional with 9 years of exp...</td>\n",
       "    </tr>\n",
       "    <tr>\n",
       "      <th>4</th>\n",
       "      <td>My name is Bob. I have 7 years of experience i...</td>\n",
       "      <td>We are looking for a candidate with expertise ...</td>\n",
       "    </tr>\n",
       "  </tbody>\n",
       "</table>\n",
       "</div>"
      ],
      "text/plain": [
       "                                              resume  \\\n",
       "0  I am Alice, with 4 years of experience in Pyth...   \n",
       "1  I am Charlie, with 10 years of experience in P...   \n",
       "2  I am Charlie, with 8 years of experience in Py...   \n",
       "3  My name is Bob. I have 8 years of experience i...   \n",
       "4  My name is Bob. I have 7 years of experience i...   \n",
       "\n",
       "                                     job_description  \n",
       "0  Looking for a professional with 7 years of exp...  \n",
       "1  Looking for a professional with 10 years of ex...  \n",
       "2  Looking for a professional with 7 years of exp...  \n",
       "3  Looking for a professional with 9 years of exp...  \n",
       "4  We are looking for a candidate with expertise ...  "
      ]
     },
     "execution_count": 3,
     "metadata": {},
     "output_type": "execute_result"
    }
   ],
   "source": [
    "import random\n",
    "import pandas as pd\n",
    "\n",
    "# Define sample resumes and job descriptions\n",
    "resume_templates = [\n",
    "    \"My name is {name}. I have {years} years of experience in {skill1} and {skill2}. I hold a {degree} in {major} from {university}.\",\n",
    "    \"I am {name}, with {years} years of experience in {skill1} and {skill2}. I hold a {degree} in {major}.\",\n",
    "    \"{name} has worked with {skill1} and {skill2} for {years} years. Completed {degree} in {major} at {university}.\"\n",
    "]\n",
    "\n",
    "job_templates = [\n",
    "    \"We are looking for a candidate with expertise in {skill1} and {skill2}, holding a {degree} in {major}.\",\n",
    "    \"Looking for a professional with {years} years of experience in {skill1} and {skill2}. Must have a {degree} in {major}.\",\n",
    "]\n",
    "\n",
    "# Define data points\n",
    "names = [\"Alice\", \"Bob\", \"Charlie\", \"David\", \"Eva\"]\n",
    "skills = [\"Python\", \"Machine Learning\", \"Data Science\", \"Java\", \"Cloud\"]\n",
    "degrees = [\"Bachelor's\", \"Master's\", \"PhD\"]\n",
    "majors = [\"Computer Science\", \"Data Science\", \"Software Engineering\"]\n",
    "universities = [\"MIT\", \"Stanford\", \"Harvard\", \"Berkeley\"]\n",
    "\n",
    "# Function to create random resumes\n",
    "def create_resume():\n",
    "    name = random.choice(names)\n",
    "    years = random.randint(1, 10)\n",
    "    skill1, skill2 = random.sample(skills, 2)\n",
    "    degree = random.choice(degrees)\n",
    "    major = random.choice(majors)\n",
    "    university = random.choice(universities)\n",
    "    \n",
    "    resume = random.choice(resume_templates).format(name=name, years=years, skill1=skill1, skill2=skill2, degree=degree, major=major, university=university)\n",
    "    return resume\n",
    "\n",
    "# Function to create random job descriptions\n",
    "def create_job_description():\n",
    "    years = random.randint(1, 10)\n",
    "    skill1, skill2 = random.sample(skills, 2)\n",
    "    degree = random.choice(degrees)\n",
    "    major = random.choice(majors)\n",
    "    \n",
    "    job_description = random.choice(job_templates).format(years=years, skill1=skill1, skill2=skill2, degree=degree, major=major)\n",
    "    return job_description\n",
    "\n",
    "# Generate 1000 synthetic resumes and job descriptions\n",
    "num_samples = 1000\n",
    "resumes = [create_resume() for _ in range(num_samples)]\n",
    "job_descriptions = [create_job_description() for _ in range(num_samples)]\n",
    "\n",
    "# Create a DataFrame\n",
    "df = pd.DataFrame({\n",
    "    'resume': resumes,\n",
    "    'job_description': job_descriptions\n",
    "})\n",
    "\n",
    "df.head()"
   ]
  },
  {
   "cell_type": "markdown",
   "id": "200d2cfc-ef18-4755-b5a2-7ff6be55e98d",
   "metadata": {},
   "source": [
    "### Get Text Embeddings using Cohere"
   ]
  },
  {
   "cell_type": "code",
   "execution_count": 4,
   "id": "2ddf0d71-6de0-4c0a-a197-c39c560b0a84",
   "metadata": {},
   "outputs": [],
   "source": [
    "# Get embeddings for resumes\n",
    "resume_embeddings = co.embed(texts=df['resume'].tolist(), model='embed-english-v2.0').embeddings\n",
    "\n",
    "# Get embeddings for job descriptions\n",
    "job_embeddings = co.embed(texts=df['job_description'].tolist(), model='embed-english-v2.0').embeddings\n",
    "\n",
    "# Convert to DataFrame for easier manipulation\n",
    "resume_embeddings_df = pd.DataFrame(resume_embeddings)\n",
    "job_embeddings_df = pd.DataFrame(job_embeddings)\n"
   ]
  },
  {
   "cell_type": "markdown",
   "id": "02a966b0-f8b6-44b6-a878-1cfadcf11c44",
   "metadata": {},
   "source": [
    "### Measure Similarity between CV & JD"
   ]
  },
  {
   "cell_type": "code",
   "execution_count": 5,
   "id": "7a58969d-f6cb-476f-811e-deb43eaea954",
   "metadata": {},
   "outputs": [
    {
     "data": {
      "text/html": [
       "<div>\n",
       "<style scoped>\n",
       "    .dataframe tbody tr th:only-of-type {\n",
       "        vertical-align: middle;\n",
       "    }\n",
       "\n",
       "    .dataframe tbody tr th {\n",
       "        vertical-align: top;\n",
       "    }\n",
       "\n",
       "    .dataframe thead th {\n",
       "        text-align: right;\n",
       "    }\n",
       "</style>\n",
       "<table border=\"1\" class=\"dataframe\">\n",
       "  <thead>\n",
       "    <tr style=\"text-align: right;\">\n",
       "      <th></th>\n",
       "      <th>resume</th>\n",
       "      <th>job_description</th>\n",
       "      <th>similarity_score</th>\n",
       "    </tr>\n",
       "  </thead>\n",
       "  <tbody>\n",
       "    <tr>\n",
       "      <th>0</th>\n",
       "      <td>I am Alice, with 4 years of experience in Pyth...</td>\n",
       "      <td>Looking for a professional with 7 years of exp...</td>\n",
       "      <td>0.681102</td>\n",
       "    </tr>\n",
       "    <tr>\n",
       "      <th>1</th>\n",
       "      <td>I am Charlie, with 10 years of experience in P...</td>\n",
       "      <td>Looking for a professional with 10 years of ex...</td>\n",
       "      <td>0.460076</td>\n",
       "    </tr>\n",
       "    <tr>\n",
       "      <th>2</th>\n",
       "      <td>I am Charlie, with 8 years of experience in Py...</td>\n",
       "      <td>Looking for a professional with 7 years of exp...</td>\n",
       "      <td>0.564380</td>\n",
       "    </tr>\n",
       "    <tr>\n",
       "      <th>3</th>\n",
       "      <td>My name is Bob. I have 8 years of experience i...</td>\n",
       "      <td>Looking for a professional with 9 years of exp...</td>\n",
       "      <td>0.635134</td>\n",
       "    </tr>\n",
       "    <tr>\n",
       "      <th>4</th>\n",
       "      <td>My name is Bob. I have 7 years of experience i...</td>\n",
       "      <td>We are looking for a candidate with expertise ...</td>\n",
       "      <td>0.533779</td>\n",
       "    </tr>\n",
       "  </tbody>\n",
       "</table>\n",
       "</div>"
      ],
      "text/plain": [
       "                                              resume  \\\n",
       "0  I am Alice, with 4 years of experience in Pyth...   \n",
       "1  I am Charlie, with 10 years of experience in P...   \n",
       "2  I am Charlie, with 8 years of experience in Py...   \n",
       "3  My name is Bob. I have 8 years of experience i...   \n",
       "4  My name is Bob. I have 7 years of experience i...   \n",
       "\n",
       "                                     job_description  similarity_score  \n",
       "0  Looking for a professional with 7 years of exp...          0.681102  \n",
       "1  Looking for a professional with 10 years of ex...          0.460076  \n",
       "2  Looking for a professional with 7 years of exp...          0.564380  \n",
       "3  Looking for a professional with 9 years of exp...          0.635134  \n",
       "4  We are looking for a candidate with expertise ...          0.533779  "
      ]
     },
     "execution_count": 5,
     "metadata": {},
     "output_type": "execute_result"
    }
   ],
   "source": [
    "import numpy as np\n",
    "from sklearn.metrics.pairwise import cosine_similarity\n",
    "\n",
    "# Function to compute cosine similarity between two vectors\n",
    "def compute_similarity(embedding1, embedding2):\n",
    "    return cosine_similarity([embedding1], [embedding2])[0][0]\n",
    "\n",
    "# Compute similarity for each resume and job description pair\n",
    "df['similarity_score'] = [\n",
    "    compute_similarity(resume_embeddings[i], job_embeddings[i]) for i in range(num_samples)\n",
    "]\n",
    "\n",
    "# Display the results\n",
    "df[['resume', 'job_description', 'similarity_score']].head()\n"
   ]
  },
  {
   "cell_type": "markdown",
   "id": "e74f9ce5-b728-462a-bc16-2dc209ed0739",
   "metadata": {},
   "source": [
    "### Screen resume based on similarity scores"
   ]
  },
  {
   "cell_type": "code",
   "execution_count": 6,
   "id": "8d7a9284-1ac1-43f3-bf2f-8f6fa3678fa4",
   "metadata": {},
   "outputs": [
    {
     "data": {
      "text/html": [
       "<div>\n",
       "<style scoped>\n",
       "    .dataframe tbody tr th:only-of-type {\n",
       "        vertical-align: middle;\n",
       "    }\n",
       "\n",
       "    .dataframe tbody tr th {\n",
       "        vertical-align: top;\n",
       "    }\n",
       "\n",
       "    .dataframe thead th {\n",
       "        text-align: right;\n",
       "    }\n",
       "</style>\n",
       "<table border=\"1\" class=\"dataframe\">\n",
       "  <thead>\n",
       "    <tr style=\"text-align: right;\">\n",
       "      <th></th>\n",
       "      <th>resume</th>\n",
       "      <th>job_description</th>\n",
       "      <th>similarity_score</th>\n",
       "    </tr>\n",
       "  </thead>\n",
       "  <tbody>\n",
       "    <tr>\n",
       "      <th>11</th>\n",
       "      <td>My name is David. I have 1 years of experience...</td>\n",
       "      <td>We are looking for a candidate with expertise ...</td>\n",
       "      <td>0.706175</td>\n",
       "    </tr>\n",
       "    <tr>\n",
       "      <th>16</th>\n",
       "      <td>My name is Eva. I have 2 years of experience i...</td>\n",
       "      <td>We are looking for a candidate with expertise ...</td>\n",
       "      <td>0.706042</td>\n",
       "    </tr>\n",
       "    <tr>\n",
       "      <th>19</th>\n",
       "      <td>I am Alice, with 2 years of experience in Pyth...</td>\n",
       "      <td>Looking for a professional with 8 years of exp...</td>\n",
       "      <td>0.779964</td>\n",
       "    </tr>\n",
       "    <tr>\n",
       "      <th>27</th>\n",
       "      <td>My name is Eva. I have 2 years of experience i...</td>\n",
       "      <td>Looking for a professional with 3 years of exp...</td>\n",
       "      <td>0.701383</td>\n",
       "    </tr>\n",
       "    <tr>\n",
       "      <th>28</th>\n",
       "      <td>I am Bob, with 9 years of experience in Java a...</td>\n",
       "      <td>Looking for a professional with 4 years of exp...</td>\n",
       "      <td>0.711180</td>\n",
       "    </tr>\n",
       "  </tbody>\n",
       "</table>\n",
       "</div>"
      ],
      "text/plain": [
       "                                               resume  \\\n",
       "11  My name is David. I have 1 years of experience...   \n",
       "16  My name is Eva. I have 2 years of experience i...   \n",
       "19  I am Alice, with 2 years of experience in Pyth...   \n",
       "27  My name is Eva. I have 2 years of experience i...   \n",
       "28  I am Bob, with 9 years of experience in Java a...   \n",
       "\n",
       "                                      job_description  similarity_score  \n",
       "11  We are looking for a candidate with expertise ...          0.706175  \n",
       "16  We are looking for a candidate with expertise ...          0.706042  \n",
       "19  Looking for a professional with 8 years of exp...          0.779964  \n",
       "27  Looking for a professional with 3 years of exp...          0.701383  \n",
       "28  Looking for a professional with 4 years of exp...          0.711180  "
      ]
     },
     "execution_count": 6,
     "metadata": {},
     "output_type": "execute_result"
    }
   ],
   "source": [
    "# Set threshold for suitable resumes\n",
    "threshold = 0.7\n",
    "\n",
    "# Filter resumes based on the threshold\n",
    "df['is_suitable'] = df['similarity_score'] > threshold\n",
    "\n",
    "# Show suitable resumes\n",
    "suitable_resumes = df[df['is_suitable']]\n",
    "suitable_resumes[['resume', 'job_description', 'similarity_score']].head()\n"
   ]
  },
  {
   "cell_type": "markdown",
   "id": "63ca4da7",
   "metadata": {},
   "source": [
    "# 2. Cohere Summarization Module"
   ]
  },
  {
   "cell_type": "markdown",
   "id": "ea0d7aa2",
   "metadata": {},
   "source": [
    "### Extractive Summarization"
   ]
  },
  {
   "cell_type": "code",
   "execution_count": 7,
   "id": "7ec56bee",
   "metadata": {},
   "outputs": [
    {
     "name": "stderr",
     "output_type": "stream",
     "text": [
      "[nltk_data] Downloading package punkt to\n",
      "[nltk_data]     C:\\Users\\abiju\\AppData\\Roaming\\nltk_data...\n",
      "[nltk_data]   Package punkt is already up-to-date!\n",
      "default model on embed will be deprecated in the future, please specify a model in the request.\n",
      "default model on embed will be deprecated in the future, please specify a model in the request.\n"
     ]
    },
    {
     "name": "stdout",
     "output_type": "stream",
     "text": [
      "Extractive Summary: Generative AI, also referred to as GenAI, allows users to input a variety of\n",
      "    prompts to generate new content, such as text, images, videos, sounds, code, \n",
      "    3D designs, and other media. It “learns” and is trained on documents and artifacts that already exist online.\n"
     ]
    }
   ],
   "source": [
    "import cohere\n",
    "import numpy as np\n",
    "from sklearn.metrics.pairwise import cosine_similarity\n",
    "import nltk\n",
    "nltk.download('punkt')\n",
    "from nltk.tokenize import sent_tokenize\n",
    "\n",
    "# Initialize Cohere client\n",
    "co = cohere.Client(cohere_api_key)\n",
    "\n",
    "def extractive_summarization(text, num_sentences=3):\n",
    "    # Tokenize the text into sentences\n",
    "    sentences = sent_tokenize(text)\n",
    "    \n",
    "    # Get embeddings for each sentence\n",
    "    sentence_embeddings = co.embed(texts=sentences).embeddings\n",
    "    \n",
    "    # Get the embedding for the entire text (summary vector)\n",
    "    text_embedding = co.embed(texts=[text]).embeddings[0]\n",
    "    \n",
    "    # Calculate cosine similarity between the text embedding and sentence embeddings\n",
    "    similarities = cosine_similarity([text_embedding], sentence_embeddings)[0]\n",
    "    \n",
    "    # Rank sentences by similarity\n",
    "    ranked_sentences = [sentences[i] for i in np.argsort(similarities)[::-1]]\n",
    "    \n",
    "    # Select the top N sentences\n",
    "    summary = ' '.join(ranked_sentences[:num_sentences])\n",
    "    \n",
    "    return summary\n",
    "\n",
    "# Test extractive summarization\n",
    "text = '''Generative AI, also referred to as GenAI, allows users to input a variety of\n",
    "    prompts to generate new content, such as text, images, videos, sounds, code, \n",
    "    3D designs, and other media. It “learns” and is trained on documents and artifacts that already exist online.'''\n",
    "\n",
    "\n",
    "\n",
    "print(\"Extractive Summary:\", extractive_summarization(text))\n"
   ]
  },
  {
   "cell_type": "markdown",
   "id": "d09b3c80",
   "metadata": {},
   "source": [
    "### Abstractive Summarization"
   ]
  },
  {
   "cell_type": "code",
   "execution_count": 8,
   "id": "6cc7e931",
   "metadata": {},
   "outputs": [
    {
     "name": "stderr",
     "output_type": "stream",
     "text": [
      "unknown field: parameter model is not a valid field\n"
     ]
    },
    {
     "name": "stdout",
     "output_type": "stream",
     "text": [
      "Abstractive Summary: Generative AI is a technology that enables users to create new content, including text, images, videos, sounds, code, and 3D designs, by inputting prompts. It is trained by learning from existing online documents and artifacts.\n"
     ]
    }
   ],
   "source": [
    "def abstractive_summarization(text):\n",
    "    response = co.generate(\n",
    "        model='command-xlarge-nightly',  # Use a Cohere large model for better performance\n",
    "        prompt=f\"Summarize the following text:\\n\\n{text}\\n\\nSummary:\",\n",
    "        max_tokens=100\n",
    "    )\n",
    "    \n",
    "    summary = response.generations[0].text.strip()\n",
    "    return summary\n",
    "\n",
    "# Test abstractive summarization\n",
    "abstractive_summary = abstractive_summarization(text)\n",
    "print(\"Abstractive Summary:\", abstractive_summary)\n"
   ]
  },
  {
   "cell_type": "markdown",
   "id": "2ed844d5",
   "metadata": {},
   "source": [
    "### Hybrid Summarization"
   ]
  },
  {
   "cell_type": "code",
   "execution_count": 9,
   "id": "2e3a7452",
   "metadata": {},
   "outputs": [
    {
     "name": "stderr",
     "output_type": "stream",
     "text": [
      "default model on embed will be deprecated in the future, please specify a model in the request.\n",
      "default model on embed will be deprecated in the future, please specify a model in the request.\n",
      "unknown field: parameter model is not a valid field\n"
     ]
    },
    {
     "name": "stdout",
     "output_type": "stream",
     "text": [
      "Hybrid Summary: Generative AI is a technology that can create various types of content, including text, images, videos, sounds, code, and 3D designs, based on user-inputted prompts. It is trained by learning from existing online documents and artifacts.\n"
     ]
    }
   ],
   "source": [
    "def hybrid_summarization(text, num_sentences=3):\n",
    "    # First perform extractive summarization\n",
    "    extracted_summary = extractive_summarization(text, num_sentences)\n",
    "    \n",
    "    # Then perform abstractive summarization on the extracted sentences\n",
    "    abstractive_summary = abstractive_summarization(extracted_summary)\n",
    "    \n",
    "    return abstractive_summary\n",
    "\n",
    "# Test hybrid summarization\n",
    "hybrid_summary = hybrid_summarization(text)\n",
    "print(\"Hybrid Summary:\", hybrid_summary)"
   ]
  },
  {
   "cell_type": "markdown",
   "id": "bf4ff4de",
   "metadata": {},
   "source": [
    "# 3.Generic Recommendation Engine"
   ]
  },
  {
   "cell_type": "markdown",
   "id": "5c6894ad",
   "metadata": {},
   "source": [
    "### Generate Synthetic data"
   ]
  },
  {
   "cell_type": "code",
   "execution_count": 10,
   "id": "a036dd7f",
   "metadata": {},
   "outputs": [
    {
     "data": {
      "text/html": [
       "<div>\n",
       "<style scoped>\n",
       "    .dataframe tbody tr th:only-of-type {\n",
       "        vertical-align: middle;\n",
       "    }\n",
       "\n",
       "    .dataframe tbody tr th {\n",
       "        vertical-align: top;\n",
       "    }\n",
       "\n",
       "    .dataframe thead th {\n",
       "        text-align: right;\n",
       "    }\n",
       "</style>\n",
       "<table border=\"1\" class=\"dataframe\">\n",
       "  <thead>\n",
       "    <tr style=\"text-align: right;\">\n",
       "      <th></th>\n",
       "      <th>user</th>\n",
       "      <th>product_name</th>\n",
       "      <th>brand</th>\n",
       "      <th>category</th>\n",
       "      <th>rating</th>\n",
       "    </tr>\n",
       "  </thead>\n",
       "  <tbody>\n",
       "    <tr>\n",
       "      <th>0</th>\n",
       "      <td>David</td>\n",
       "      <td>Nail Polish</td>\n",
       "      <td>BrandC</td>\n",
       "      <td>Lip</td>\n",
       "      <td>3</td>\n",
       "    </tr>\n",
       "    <tr>\n",
       "      <th>1</th>\n",
       "      <td>James</td>\n",
       "      <td>Foundation</td>\n",
       "      <td>BrandA</td>\n",
       "      <td>Face</td>\n",
       "      <td>3</td>\n",
       "    </tr>\n",
       "    <tr>\n",
       "      <th>2</th>\n",
       "      <td>Emily</td>\n",
       "      <td>Lipstick</td>\n",
       "      <td>BrandB</td>\n",
       "      <td>Eye</td>\n",
       "      <td>2</td>\n",
       "    </tr>\n",
       "    <tr>\n",
       "      <th>3</th>\n",
       "      <td>James</td>\n",
       "      <td>Eyeshadow</td>\n",
       "      <td>BrandD</td>\n",
       "      <td>Eye</td>\n",
       "      <td>1</td>\n",
       "    </tr>\n",
       "    <tr>\n",
       "      <th>4</th>\n",
       "      <td>Michael</td>\n",
       "      <td>Blush</td>\n",
       "      <td>BrandE</td>\n",
       "      <td>Lip</td>\n",
       "      <td>2</td>\n",
       "    </tr>\n",
       "  </tbody>\n",
       "</table>\n",
       "</div>"
      ],
      "text/plain": [
       "      user product_name   brand category  rating\n",
       "0    David  Nail Polish  BrandC      Lip       3\n",
       "1    James   Foundation  BrandA     Face       3\n",
       "2    Emily     Lipstick  BrandB      Eye       2\n",
       "3    James    Eyeshadow  BrandD      Eye       1\n",
       "4  Michael        Blush  BrandE      Lip       2"
      ]
     },
     "execution_count": 10,
     "metadata": {},
     "output_type": "execute_result"
    }
   ],
   "source": [
    "import pandas as pd\n",
    "import random\n",
    "\n",
    "# Lists of synthetic data\n",
    "users = ['Jane', 'Jack', 'Emily', 'Sarah', 'John', 'Michael', 'Anna', 'David', 'Lucy', 'James']\n",
    "cosmetics = ['Lipstick', 'Eyeliner', 'Kajal', 'Foundation', 'Blush', 'Mascara', 'Nail Polish', 'Concealer', 'Highlighter', 'Eyeshadow']\n",
    "brands = ['BrandA', 'BrandB', 'BrandC', 'BrandD', 'BrandE']\n",
    "categories = ['Lip', 'Eye', 'Face', 'Nail']\n",
    "ratings = [1, 2, 3, 4, 5]\n",
    "\n",
    "# Generate synthetic cosmetic product data\n",
    "data = {\n",
    "    'user': [random.choice(users) for _ in range(1000)],\n",
    "    'product_name': [random.choice(cosmetics) for _ in range(1000)],\n",
    "    'brand': [random.choice(brands) for _ in range(1000)],\n",
    "    'category': [random.choice(categories) for _ in range(1000)],\n",
    "    'rating': [random.choice(ratings) for _ in range(1000)]\n",
    "}\n",
    "\n",
    "df = pd.DataFrame(data)\n",
    "df.head()"
   ]
  },
  {
   "cell_type": "markdown",
   "id": "4453126e",
   "metadata": {},
   "source": [
    "### Get embeddings using Cohere"
   ]
  },
  {
   "cell_type": "code",
   "execution_count": 11,
   "id": "91e0fb57",
   "metadata": {},
   "outputs": [],
   "source": [
    "import cohere\n",
    "from sklearn.metrics.pairwise import cosine_similarity\n",
    "\n",
    "# Initialize Cohere client (replace 'your-api-key' with your actual API key)\n",
    "co = cohere.Client(cohere_api_key)\n",
    "\n",
    "# Generate synthetic product descriptions (for demonstration purposes)\n",
    "df['product_description'] = df['product_name'] + ' by ' + df['brand'] + ', category: ' + df['category']\n",
    "\n",
    "# Get product embeddings using Cohere\n",
    "product_descriptions = df['product_description'].tolist()\n",
    "embeddings = co.embed(texts=product_descriptions, model='embed-english-v2.0').embeddings\n"
   ]
  },
  {
   "cell_type": "markdown",
   "id": "11a39e1c",
   "metadata": {},
   "source": [
    "### Build Recommendation Function"
   ]
  },
  {
   "cell_type": "code",
   "execution_count": 12,
   "id": "1b1558c4",
   "metadata": {},
   "outputs": [
    {
     "name": "stdout",
     "output_type": "stream",
     "text": [
      "    product_name   brand category  similarity\n",
      "134   Foundation  BrandB     Nail    0.990148\n",
      "629   Foundation  BrandA     Nail    0.989722\n",
      "961   Foundation  BrandA     Nail    0.989722\n",
      "469   Foundation  BrandD     Nail    0.989003\n",
      "354   Foundation  BrandD     Nail    0.989003\n"
     ]
    }
   ],
   "source": [
    "def recommend_products(user, df, embeddings, top_n=5):\n",
    "    # Get the user's previously rated products\n",
    "    user_data = df[df['user'] == user]\n",
    "    \n",
    "    if user_data.empty:\n",
    "        return f\"No recommendations available for {user}.\"\n",
    "    \n",
    "    # Get the most recent product that the user interacted with\n",
    "    recent_product = user_data.iloc[-1]['product_description']\n",
    "    \n",
    "    # Embed the recent product description\n",
    "    recent_product_embedding = co.embed(texts=[recent_product], model='embed-english-v2.0').embeddings[0]\n",
    "    \n",
    "    # Calculate cosine similarity between the user's recent product and all other products\n",
    "    similarities = cosine_similarity([recent_product_embedding], embeddings)[0]\n",
    "    \n",
    "    # Get top N most similar products, excluding the one the user already interacted with\n",
    "    df['similarity'] = similarities\n",
    "    recommendations = df[~df['product_description'].isin(user_data['product_description'])].sort_values(by='similarity', ascending=False).head(top_n)\n",
    "    \n",
    "    return recommendations[['product_name', 'brand', 'category', 'similarity']]\n",
    "\n",
    "# Example recommendation for user 'Jane'\n",
    "recommendations = recommend_products('Jane', df, embeddings, top_n=5)\n",
    "print(recommendations)\n"
   ]
  },
  {
   "cell_type": "code",
   "execution_count": null,
   "id": "8e40d177",
   "metadata": {},
   "outputs": [],
   "source": []
  }
 ],
 "metadata": {
  "kernelspec": {
   "display_name": "Python 3 (ipykernel)",
   "language": "python",
   "name": "python3"
  },
  "language_info": {
   "codemirror_mode": {
    "name": "ipython",
    "version": 3
   },
   "file_extension": ".py",
   "mimetype": "text/x-python",
   "name": "python",
   "nbconvert_exporter": "python",
   "pygments_lexer": "ipython3",
   "version": "3.11.5"
  }
 },
 "nbformat": 4,
 "nbformat_minor": 5
}
